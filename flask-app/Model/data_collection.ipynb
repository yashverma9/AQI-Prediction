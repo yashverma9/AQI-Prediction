{
 "metadata": {
  "language_info": {
   "codemirror_mode": {
    "name": "ipython",
    "version": 3
   },
   "file_extension": ".py",
   "mimetype": "text/x-python",
   "name": "python",
   "nbconvert_exporter": "python",
   "pygments_lexer": "ipython3",
   "version": "3.8.5"
  },
  "orig_nbformat": 2,
  "kernelspec": {
   "name": "python3",
   "display_name": "Python 3",
   "language": "python"
  }
 },
 "nbformat": 4,
 "nbformat_minor": 2,
 "cells": [
  {
   "cell_type": "code",
   "execution_count": 2,
   "metadata": {},
   "outputs": [],
   "source": [
    "import pandas as pd\n",
    "import numpy as np"
   ]
  },
  {
   "cell_type": "code",
   "execution_count": 3,
   "metadata": {},
   "outputs": [
    {
     "output_type": "execute_result",
     "data": {
      "text/plain": [
       "       date  pm25\n",
       "0  2021/5/1   143\n",
       "1  2021/5/2   117\n",
       "2  2021/5/3   100\n",
       "3  2021/5/4   113\n",
       "4  2021/5/5   120"
      ],
      "text/html": "<div>\n<style scoped>\n    .dataframe tbody tr th:only-of-type {\n        vertical-align: middle;\n    }\n\n    .dataframe tbody tr th {\n        vertical-align: top;\n    }\n\n    .dataframe thead th {\n        text-align: right;\n    }\n</style>\n<table border=\"1\" class=\"dataframe\">\n  <thead>\n    <tr style=\"text-align: right;\">\n      <th></th>\n      <th>date</th>\n      <th>pm25</th>\n    </tr>\n  </thead>\n  <tbody>\n    <tr>\n      <th>0</th>\n      <td>2021/5/1</td>\n      <td>143</td>\n    </tr>\n    <tr>\n      <th>1</th>\n      <td>2021/5/2</td>\n      <td>117</td>\n    </tr>\n    <tr>\n      <th>2</th>\n      <td>2021/5/3</td>\n      <td>100</td>\n    </tr>\n    <tr>\n      <th>3</th>\n      <td>2021/5/4</td>\n      <td>113</td>\n    </tr>\n    <tr>\n      <th>4</th>\n      <td>2021/5/5</td>\n      <td>120</td>\n    </tr>\n  </tbody>\n</table>\n</div>"
     },
     "metadata": {},
     "execution_count": 3
    }
   ],
   "source": [
    "df = pd.read_csv(\"data/blr_pm25.csv\", usecols = ['date', 'pm25'])\n",
    "df.head()"
   ]
  },
  {
   "cell_type": "code",
   "execution_count": 4,
   "metadata": {},
   "outputs": [
    {
     "output_type": "stream",
     "name": "stdout",
     "text": [
      "<class 'pandas.core.frame.DataFrame'>\nRangeIndex: 2391 entries, 0 to 2390\nData columns (total 2 columns):\n #   Column  Non-Null Count  Dtype \n---  ------  --------------  ----- \n 0   date    2391 non-null   object\n 1   pm25    2391 non-null   object\ndtypes: object(2)\nmemory usage: 37.5+ KB\n"
     ]
    }
   ],
   "source": [
    "df.info()"
   ]
  },
  {
   "cell_type": "code",
   "execution_count": 5,
   "metadata": {},
   "outputs": [
    {
     "output_type": "stream",
     "name": "stdout",
     "text": [
      "383\n"
     ]
    }
   ],
   "source": [
    "cnt = 0\n",
    "for i in range(df.shape[0]):\n",
    "    if df[\"pm25\"][i] == \" \":\n",
    "        cnt += 1        \n",
    "print(cnt)"
   ]
  },
  {
   "cell_type": "code",
   "execution_count": 6,
   "metadata": {},
   "outputs": [],
   "source": [
    "#Data cleaning\n",
    "def remove_space(x):\n",
    "    if x == \" \":\n",
    "        x = np.NaN\n",
    "    else:\n",
    "        x =  x.strip()\n",
    "    return x\n",
    "df['pm25'] = df['pm25'].apply(remove_space)\n",
    "df['pm25'] = df['pm25'].astype(float)"
   ]
  },
  {
   "cell_type": "code",
   "execution_count": 7,
   "metadata": {},
   "outputs": [],
   "source": [
    "#Getting dates in datetime format\n",
    "df['date'] = df['date'].astype('datetime64[ns]')"
   ]
  },
  {
   "cell_type": "code",
   "execution_count": 8,
   "metadata": {},
   "outputs": [],
   "source": [
    "sorted_df = df.sort_values(by = \"date\")\n",
    "sorted_df.reset_index(drop = True, inplace = True)"
   ]
  },
  {
   "cell_type": "code",
   "execution_count": 9,
   "metadata": {},
   "outputs": [
    {
     "output_type": "execute_result",
     "data": {
      "text/plain": [
       "           date   pm25\n",
       "0    2013-12-31    NaN\n",
       "1    2014-01-01    NaN\n",
       "2    2014-01-02    NaN\n",
       "3    2014-01-03    NaN\n",
       "4    2014-01-04    NaN\n",
       "...         ...    ...\n",
       "2386 2021-05-11  104.0\n",
       "2387 2021-05-12   87.0\n",
       "2388 2021-05-13   66.0\n",
       "2389 2021-05-14   62.0\n",
       "2390 2021-05-15   54.0\n",
       "\n",
       "[2391 rows x 2 columns]"
      ],
      "text/html": "<div>\n<style scoped>\n    .dataframe tbody tr th:only-of-type {\n        vertical-align: middle;\n    }\n\n    .dataframe tbody tr th {\n        vertical-align: top;\n    }\n\n    .dataframe thead th {\n        text-align: right;\n    }\n</style>\n<table border=\"1\" class=\"dataframe\">\n  <thead>\n    <tr style=\"text-align: right;\">\n      <th></th>\n      <th>date</th>\n      <th>pm25</th>\n    </tr>\n  </thead>\n  <tbody>\n    <tr>\n      <th>0</th>\n      <td>2013-12-31</td>\n      <td>NaN</td>\n    </tr>\n    <tr>\n      <th>1</th>\n      <td>2014-01-01</td>\n      <td>NaN</td>\n    </tr>\n    <tr>\n      <th>2</th>\n      <td>2014-01-02</td>\n      <td>NaN</td>\n    </tr>\n    <tr>\n      <th>3</th>\n      <td>2014-01-03</td>\n      <td>NaN</td>\n    </tr>\n    <tr>\n      <th>4</th>\n      <td>2014-01-04</td>\n      <td>NaN</td>\n    </tr>\n    <tr>\n      <th>...</th>\n      <td>...</td>\n      <td>...</td>\n    </tr>\n    <tr>\n      <th>2386</th>\n      <td>2021-05-11</td>\n      <td>104.0</td>\n    </tr>\n    <tr>\n      <th>2387</th>\n      <td>2021-05-12</td>\n      <td>87.0</td>\n    </tr>\n    <tr>\n      <th>2388</th>\n      <td>2021-05-13</td>\n      <td>66.0</td>\n    </tr>\n    <tr>\n      <th>2389</th>\n      <td>2021-05-14</td>\n      <td>62.0</td>\n    </tr>\n    <tr>\n      <th>2390</th>\n      <td>2021-05-15</td>\n      <td>54.0</td>\n    </tr>\n  </tbody>\n</table>\n<p>2391 rows × 2 columns</p>\n</div>"
     },
     "metadata": {},
     "execution_count": 9
    }
   ],
   "source": [
    "sorted_df"
   ]
  },
  {
   "cell_type": "code",
   "execution_count": 10,
   "metadata": {},
   "outputs": [
    {
     "output_type": "stream",
     "name": "stdout",
     "text": [
      "<class 'pandas.core.frame.DataFrame'>\nRangeIndex: 2391 entries, 0 to 2390\nData columns (total 2 columns):\n #   Column  Non-Null Count  Dtype         \n---  ------  --------------  -----         \n 0   date    2391 non-null   datetime64[ns]\n 1   pm25    2008 non-null   float64       \ndtypes: datetime64[ns](1), float64(1)\nmemory usage: 37.5 KB\n"
     ]
    }
   ],
   "source": [
    "df.info()"
   ]
  },
  {
   "cell_type": "code",
   "execution_count": 11,
   "metadata": {},
   "outputs": [],
   "source": [
    "#Stores all dates whose data is not there\n",
    "non_date = list(pd.date_range(start = '2013-12-31', end = '2021-05-15' ).difference(sorted_df[\"date\"]))\n",
    "for i in range(len(non_date)):\n",
    "    non_date[i] = (non_date[i].to_pydatetime().date())"
   ]
  },
  {
   "cell_type": "code",
   "execution_count": 12,
   "metadata": {},
   "outputs": [
    {
     "output_type": "execute_result",
     "data": {
      "text/plain": [
       "302"
      ]
     },
     "metadata": {},
     "execution_count": 12
    }
   ],
   "source": [
    "len(non_date)"
   ]
  },
  {
   "cell_type": "code",
   "execution_count": 13,
   "metadata": {},
   "outputs": [],
   "source": [
    "for i in non_date:\n",
    "    if(i):\n",
    "        sorted_df.loc[len(sorted_df)] = [i, np.NaN]"
   ]
  },
  {
   "cell_type": "code",
   "execution_count": 14,
   "metadata": {},
   "outputs": [
    {
     "output_type": "execute_result",
     "data": {
      "text/plain": [
       "                     date  pm25\n",
       "0     2013-12-31 00:00:00   NaN\n",
       "1     2014-01-01 00:00:00   NaN\n",
       "2     2014-01-02 00:00:00   NaN\n",
       "3     2014-01-03 00:00:00   NaN\n",
       "4     2014-01-04 00:00:00   NaN\n",
       "...                   ...   ...\n",
       "2688           2020-03-30   NaN\n",
       "2689           2020-05-03   NaN\n",
       "2690           2020-05-04   NaN\n",
       "2691           2020-05-08   NaN\n",
       "2692           2020-05-09   NaN\n",
       "\n",
       "[2693 rows x 2 columns]"
      ],
      "text/html": "<div>\n<style scoped>\n    .dataframe tbody tr th:only-of-type {\n        vertical-align: middle;\n    }\n\n    .dataframe tbody tr th {\n        vertical-align: top;\n    }\n\n    .dataframe thead th {\n        text-align: right;\n    }\n</style>\n<table border=\"1\" class=\"dataframe\">\n  <thead>\n    <tr style=\"text-align: right;\">\n      <th></th>\n      <th>date</th>\n      <th>pm25</th>\n    </tr>\n  </thead>\n  <tbody>\n    <tr>\n      <th>0</th>\n      <td>2013-12-31 00:00:00</td>\n      <td>NaN</td>\n    </tr>\n    <tr>\n      <th>1</th>\n      <td>2014-01-01 00:00:00</td>\n      <td>NaN</td>\n    </tr>\n    <tr>\n      <th>2</th>\n      <td>2014-01-02 00:00:00</td>\n      <td>NaN</td>\n    </tr>\n    <tr>\n      <th>3</th>\n      <td>2014-01-03 00:00:00</td>\n      <td>NaN</td>\n    </tr>\n    <tr>\n      <th>4</th>\n      <td>2014-01-04 00:00:00</td>\n      <td>NaN</td>\n    </tr>\n    <tr>\n      <th>...</th>\n      <td>...</td>\n      <td>...</td>\n    </tr>\n    <tr>\n      <th>2688</th>\n      <td>2020-03-30</td>\n      <td>NaN</td>\n    </tr>\n    <tr>\n      <th>2689</th>\n      <td>2020-05-03</td>\n      <td>NaN</td>\n    </tr>\n    <tr>\n      <th>2690</th>\n      <td>2020-05-04</td>\n      <td>NaN</td>\n    </tr>\n    <tr>\n      <th>2691</th>\n      <td>2020-05-08</td>\n      <td>NaN</td>\n    </tr>\n    <tr>\n      <th>2692</th>\n      <td>2020-05-09</td>\n      <td>NaN</td>\n    </tr>\n  </tbody>\n</table>\n<p>2693 rows × 2 columns</p>\n</div>"
     },
     "metadata": {},
     "execution_count": 14
    }
   ],
   "source": [
    "sorted_df"
   ]
  },
  {
   "cell_type": "code",
   "execution_count": 15,
   "metadata": {},
   "outputs": [],
   "source": [
    "sorted_df['date'] = pd.to_datetime(sorted_df['date']).dt.date"
   ]
  },
  {
   "cell_type": "code",
   "execution_count": 16,
   "metadata": {},
   "outputs": [
    {
     "output_type": "execute_result",
     "data": {
      "text/plain": [
       "            date  pm25\n",
       "0     2013-12-31   NaN\n",
       "1     2014-01-01   NaN\n",
       "2     2014-01-02   NaN\n",
       "3     2014-01-03   NaN\n",
       "4     2014-01-04   NaN\n",
       "...          ...   ...\n",
       "2688  2020-03-30   NaN\n",
       "2689  2020-05-03   NaN\n",
       "2690  2020-05-04   NaN\n",
       "2691  2020-05-08   NaN\n",
       "2692  2020-05-09   NaN\n",
       "\n",
       "[2693 rows x 2 columns]"
      ],
      "text/html": "<div>\n<style scoped>\n    .dataframe tbody tr th:only-of-type {\n        vertical-align: middle;\n    }\n\n    .dataframe tbody tr th {\n        vertical-align: top;\n    }\n\n    .dataframe thead th {\n        text-align: right;\n    }\n</style>\n<table border=\"1\" class=\"dataframe\">\n  <thead>\n    <tr style=\"text-align: right;\">\n      <th></th>\n      <th>date</th>\n      <th>pm25</th>\n    </tr>\n  </thead>\n  <tbody>\n    <tr>\n      <th>0</th>\n      <td>2013-12-31</td>\n      <td>NaN</td>\n    </tr>\n    <tr>\n      <th>1</th>\n      <td>2014-01-01</td>\n      <td>NaN</td>\n    </tr>\n    <tr>\n      <th>2</th>\n      <td>2014-01-02</td>\n      <td>NaN</td>\n    </tr>\n    <tr>\n      <th>3</th>\n      <td>2014-01-03</td>\n      <td>NaN</td>\n    </tr>\n    <tr>\n      <th>4</th>\n      <td>2014-01-04</td>\n      <td>NaN</td>\n    </tr>\n    <tr>\n      <th>...</th>\n      <td>...</td>\n      <td>...</td>\n    </tr>\n    <tr>\n      <th>2688</th>\n      <td>2020-03-30</td>\n      <td>NaN</td>\n    </tr>\n    <tr>\n      <th>2689</th>\n      <td>2020-05-03</td>\n      <td>NaN</td>\n    </tr>\n    <tr>\n      <th>2690</th>\n      <td>2020-05-04</td>\n      <td>NaN</td>\n    </tr>\n    <tr>\n      <th>2691</th>\n      <td>2020-05-08</td>\n      <td>NaN</td>\n    </tr>\n    <tr>\n      <th>2692</th>\n      <td>2020-05-09</td>\n      <td>NaN</td>\n    </tr>\n  </tbody>\n</table>\n<p>2693 rows × 2 columns</p>\n</div>"
     },
     "metadata": {},
     "execution_count": 16
    }
   ],
   "source": [
    "sorted_df"
   ]
  },
  {
   "cell_type": "code",
   "execution_count": 17,
   "metadata": {},
   "outputs": [],
   "source": [
    "sorted_df = sorted_df.sort_values(by = \"date\")\n",
    "sorted_df.reset_index(drop = True, inplace = True)"
   ]
  },
  {
   "cell_type": "code",
   "execution_count": 18,
   "metadata": {},
   "outputs": [
    {
     "output_type": "execute_result",
     "data": {
      "text/plain": [
       "            date   pm25\n",
       "2663  2021-04-16   93.0\n",
       "2664  2021-04-17  111.0\n",
       "2665  2021-04-18  143.0\n",
       "2666  2021-04-19  134.0\n",
       "2667  2021-04-20  147.0\n",
       "2668  2021-04-21  151.0\n",
       "2669  2021-04-22  125.0\n",
       "2670  2021-04-23   97.0\n",
       "2671  2021-04-24   86.0\n",
       "2672  2021-04-25  103.0\n",
       "2673  2021-04-26  130.0\n",
       "2674  2021-04-27  128.0\n",
       "2675  2021-04-28  131.0\n",
       "2676  2021-04-29  140.0\n",
       "2677  2021-04-30  135.0\n",
       "2678  2021-05-01  143.0\n",
       "2679  2021-05-02  117.0\n",
       "2680  2021-05-03  100.0\n",
       "2681  2021-05-04  113.0\n",
       "2682  2021-05-05  120.0\n",
       "2683  2021-05-06  111.0\n",
       "2684  2021-05-07  102.0\n",
       "2685  2021-05-08   94.0\n",
       "2686  2021-05-09   82.0\n",
       "2687  2021-05-10   91.0\n",
       "2688  2021-05-11  104.0\n",
       "2689  2021-05-12   87.0\n",
       "2690  2021-05-13   66.0\n",
       "2691  2021-05-14   62.0\n",
       "2692  2021-05-15   54.0"
      ],
      "text/html": "<div>\n<style scoped>\n    .dataframe tbody tr th:only-of-type {\n        vertical-align: middle;\n    }\n\n    .dataframe tbody tr th {\n        vertical-align: top;\n    }\n\n    .dataframe thead th {\n        text-align: right;\n    }\n</style>\n<table border=\"1\" class=\"dataframe\">\n  <thead>\n    <tr style=\"text-align: right;\">\n      <th></th>\n      <th>date</th>\n      <th>pm25</th>\n    </tr>\n  </thead>\n  <tbody>\n    <tr>\n      <th>2663</th>\n      <td>2021-04-16</td>\n      <td>93.0</td>\n    </tr>\n    <tr>\n      <th>2664</th>\n      <td>2021-04-17</td>\n      <td>111.0</td>\n    </tr>\n    <tr>\n      <th>2665</th>\n      <td>2021-04-18</td>\n      <td>143.0</td>\n    </tr>\n    <tr>\n      <th>2666</th>\n      <td>2021-04-19</td>\n      <td>134.0</td>\n    </tr>\n    <tr>\n      <th>2667</th>\n      <td>2021-04-20</td>\n      <td>147.0</td>\n    </tr>\n    <tr>\n      <th>2668</th>\n      <td>2021-04-21</td>\n      <td>151.0</td>\n    </tr>\n    <tr>\n      <th>2669</th>\n      <td>2021-04-22</td>\n      <td>125.0</td>\n    </tr>\n    <tr>\n      <th>2670</th>\n      <td>2021-04-23</td>\n      <td>97.0</td>\n    </tr>\n    <tr>\n      <th>2671</th>\n      <td>2021-04-24</td>\n      <td>86.0</td>\n    </tr>\n    <tr>\n      <th>2672</th>\n      <td>2021-04-25</td>\n      <td>103.0</td>\n    </tr>\n    <tr>\n      <th>2673</th>\n      <td>2021-04-26</td>\n      <td>130.0</td>\n    </tr>\n    <tr>\n      <th>2674</th>\n      <td>2021-04-27</td>\n      <td>128.0</td>\n    </tr>\n    <tr>\n      <th>2675</th>\n      <td>2021-04-28</td>\n      <td>131.0</td>\n    </tr>\n    <tr>\n      <th>2676</th>\n      <td>2021-04-29</td>\n      <td>140.0</td>\n    </tr>\n    <tr>\n      <th>2677</th>\n      <td>2021-04-30</td>\n      <td>135.0</td>\n    </tr>\n    <tr>\n      <th>2678</th>\n      <td>2021-05-01</td>\n      <td>143.0</td>\n    </tr>\n    <tr>\n      <th>2679</th>\n      <td>2021-05-02</td>\n      <td>117.0</td>\n    </tr>\n    <tr>\n      <th>2680</th>\n      <td>2021-05-03</td>\n      <td>100.0</td>\n    </tr>\n    <tr>\n      <th>2681</th>\n      <td>2021-05-04</td>\n      <td>113.0</td>\n    </tr>\n    <tr>\n      <th>2682</th>\n      <td>2021-05-05</td>\n      <td>120.0</td>\n    </tr>\n    <tr>\n      <th>2683</th>\n      <td>2021-05-06</td>\n      <td>111.0</td>\n    </tr>\n    <tr>\n      <th>2684</th>\n      <td>2021-05-07</td>\n      <td>102.0</td>\n    </tr>\n    <tr>\n      <th>2685</th>\n      <td>2021-05-08</td>\n      <td>94.0</td>\n    </tr>\n    <tr>\n      <th>2686</th>\n      <td>2021-05-09</td>\n      <td>82.0</td>\n    </tr>\n    <tr>\n      <th>2687</th>\n      <td>2021-05-10</td>\n      <td>91.0</td>\n    </tr>\n    <tr>\n      <th>2688</th>\n      <td>2021-05-11</td>\n      <td>104.0</td>\n    </tr>\n    <tr>\n      <th>2689</th>\n      <td>2021-05-12</td>\n      <td>87.0</td>\n    </tr>\n    <tr>\n      <th>2690</th>\n      <td>2021-05-13</td>\n      <td>66.0</td>\n    </tr>\n    <tr>\n      <th>2691</th>\n      <td>2021-05-14</td>\n      <td>62.0</td>\n    </tr>\n    <tr>\n      <th>2692</th>\n      <td>2021-05-15</td>\n      <td>54.0</td>\n    </tr>\n  </tbody>\n</table>\n</div>"
     },
     "metadata": {},
     "execution_count": 18
    }
   ],
   "source": [
    "sorted_df.tail(30)"
   ]
  },
  {
   "cell_type": "code",
   "execution_count": 19,
   "metadata": {},
   "outputs": [
    {
     "output_type": "execute_result",
     "data": {
      "text/plain": [
       "[]"
      ]
     },
     "metadata": {},
     "execution_count": 19
    }
   ],
   "source": [
    "#checking if any date is still missing in the dataframe column\n",
    "list(pd.date_range(start = '2013-12-31', end = '2021-05-15' ).difference(sorted_df[\"date\"]))"
   ]
  },
  {
   "cell_type": "code",
   "execution_count": 20,
   "metadata": {},
   "outputs": [],
   "source": [
    "#Renaming column to PM2.5\n",
    "sorted_df.rename(columns = {'pm25':'PM2.5'}, inplace = True)"
   ]
  },
  {
   "cell_type": "code",
   "execution_count": 21,
   "metadata": {},
   "outputs": [],
   "source": [
    "year_range = [2015, 2016, 2017, 2018, 2019, 2020]\n",
    "for year in year_range:\n",
    "    startdate = pd.to_datetime(str(year)+\"-1-1\").date()\n",
    "    enddate = pd.to_datetime(str(year+1)+\"-1-1\").date()\n",
    "    sorted_df[(sorted_df[\"date\"]<enddate) & (sorted_df[\"date\"] >= startdate)].to_csv(\"data/AQI/aqi\"+str(year)+\".csv\", index = False)"
   ]
  },
  {
   "cell_type": "code",
   "execution_count": 24,
   "metadata": {},
   "outputs": [],
   "source": [
    "#To extract latest data\n",
    "startdate = pd.to_datetime(\"2021-4-16\").date()\n",
    "enddate = pd.to_datetime(\"2021-5-16\").date()\n",
    "sorted_df[(sorted_df[\"date\"]<enddate) & (sorted_df[\"date\"] >= startdate)].to_csv(\"data/AQI/recent.csv\", index = False)"
   ]
  },
  {
   "cell_type": "code",
   "execution_count": null,
   "metadata": {},
   "outputs": [],
   "source": []
  },
  {
   "cell_type": "code",
   "execution_count": null,
   "metadata": {},
   "outputs": [],
   "source": []
  }
 ]
}